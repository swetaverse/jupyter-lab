{
 "cells": [
  {
   "cell_type": "code",
   "execution_count": 1,
   "id": "853ab725-31d9-41a7-a1c0-44d8b840b63c",
   "metadata": {},
   "outputs": [],
   "source": [
    "import pandas as pd\n"
   ]
  },
  {
   "cell_type": "code",
   "execution_count": 2,
   "id": "d24ee5ce-066f-45bf-8afd-695b34601f1c",
   "metadata": {},
   "outputs": [],
   "source": [
    "df = pd.read_csv('scores.csv', sep=' ')"
   ]
  },
  {
   "cell_type": "code",
   "execution_count": 3,
   "id": "942f5aa9-0f19-4f54-9173-0a3f218a3d64",
   "metadata": {},
   "outputs": [
    {
     "name": "stdout",
     "output_type": "stream",
     "text": [
      "       CardNo Name  Gender DateOfBirth   CityTown  Mathematics  Physics  \\\n",
      "0   Bhuvanesh    M       7         Nov      Erode           68       64   \n",
      "1      Harish    M       3         Jun      Salem           62       45   \n",
      "2    Shashank    M       4         Jan    Chennai           57       54   \n",
      "3        Rida    F       5         May    Chennai           42       53   \n",
      "4      Ritika    F      17         Nov    Madurai           87       64   \n",
      "5     Akshaya    F       8         Feb    Chennai           71       92   \n",
      "6      Sameer    M      23         Mar      Ambur           81       82   \n",
      "7      Aditya    M      15         Mar    Vellore           84       92   \n",
      "8       Surya    M      28         Feb  Bengaluru           74       64   \n",
      "9    Clarence    M       6         Dec  Bengaluru           63       88   \n",
      "10      Kavya    F      12         Jan    Chennai           64       72   \n",
      "11      Rahul    M      30         Apr  Bengaluru           97       92   \n",
      "12   Srinidhi    F      14         Jan    Chennai           52       64   \n",
      "13       Gopi    M       6         May    Madurai           65       73   \n",
      "14     Sophia    F      23        July     Trichy           89       62   \n",
      "15    Goutami    F      22         Sep      Theni           76       58   \n",
      "16    Tauseef    M      30         Dec     Trichy           87       86   \n",
      "17     Arshad    M      14         Dec    Chennai           62       81   \n",
      "18    Abirami    F       9         Oct      Erode           72       92   \n",
      "19   Vetrivel    M      30         Aug     Trichy           56       78   \n",
      "20     Kalyan    M      17         Sep    Vellore           93       68   \n",
      "21     Monika    F      15         Mar  Bengaluru           78       69   \n",
      "22      Priya    F      17         Jul  Nagercoil           62       62   \n",
      "23    Deepika    F      13         May  Bengaluru           97       91   \n",
      "24  Siddharth    M      26         Dec    Madurai           44       72   \n",
      "25      Geeta    F      16         May    Chennai           87       75   \n",
      "26         JK    M      22         Jul    Chennai           74       71   \n",
      "27      Jagan    M       4         Mar    Madurai           81       76   \n",
      "28      Nisha    F      10         Sep    Madurai           74       83   \n",
      "29     Naveen    M      13         Oct    Vellore           72       66   \n",
      "\n",
      "    Chemistry  Total  \n",
      "0          78    210  \n",
      "1          91    198  \n",
      "2          77    188  \n",
      "3          78    173  \n",
      "4          89    240  \n",
      "5          84    247  \n",
      "6          87    250  \n",
      "7          76    252  \n",
      "8          51    189  \n",
      "9          73    224  \n",
      "10         68    204  \n",
      "11         92    281  \n",
      "12         71    187  \n",
      "13         89    227  \n",
      "14         93    244  \n",
      "15         90    224  \n",
      "16         43    216  \n",
      "17         67    210  \n",
      "18         97    261  \n",
      "19         62    196  \n",
      "20         91    252  \n",
      "21         74    221  \n",
      "22         57    181  \n",
      "23         88    276  \n",
      "24         58    174  \n",
      "25         92    254  \n",
      "26         82    227  \n",
      "27         52    209  \n",
      "28         83    240  \n",
      "29         81    219  \n"
     ]
    }
   ],
   "source": [
    "print(df)"
   ]
  },
  {
   "cell_type": "code",
   "execution_count": null,
   "id": "b3e4cb88-8e7c-4163-9f92-600673d60c45",
   "metadata": {},
   "outputs": [],
   "source": []
  },
  {
   "cell_type": "code",
   "execution_count": null,
   "id": "363969a2-74ef-44ef-a1a8-6772c88511f4",
   "metadata": {},
   "outputs": [],
   "source": []
  }
 ],
 "metadata": {
  "kernelspec": {
   "display_name": "Python 3 (ipykernel)",
   "language": "python",
   "name": "python3"
  },
  "language_info": {
   "codemirror_mode": {
    "name": "ipython",
    "version": 3
   },
   "file_extension": ".py",
   "mimetype": "text/x-python",
   "name": "python",
   "nbconvert_exporter": "python",
   "pygments_lexer": "ipython3",
   "version": "3.11.6"
  }
 },
 "nbformat": 4,
 "nbformat_minor": 5
}
